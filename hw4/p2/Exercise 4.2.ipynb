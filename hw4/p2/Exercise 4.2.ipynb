{
 "cells": [
  {
   "cell_type": "markdown",
   "id": "weekly-booth",
   "metadata": {},
   "source": [
    "## Exercise 4.2"
   ]
  },
  {
   "cell_type": "markdown",
   "id": "graduate-stations",
   "metadata": {},
   "source": [
    "####  (I) Build a deep neural network with 5 hidden layers of 100 neurons each (with Xavier initialization, batch normalization, and ReLU activation function), and train it using Adam optimizer and early stopping on the MNIST dataset. Hint: you will need a softmax output layer with ten neurons for this classification task. Hint: make sure you save the checkpoints at regular intervals and save the final model to use it later. Show the misclassification rates and sample results. What accuracy can you achieve? Is the model overfitting the training data? "
   ]
  },
  {
   "cell_type": "markdown",
   "id": "accompanied-maria",
   "metadata": {},
   "source": [
    "#### Run Neural Network"
   ]
  },
  {
   "cell_type": "code",
   "execution_count": 1,
   "id": "invisible-survivor",
   "metadata": {},
   "outputs": [
    {
     "data": {
      "image/png": "[encoded data removed]",
      "text/plain": [
       "<Figure size 720x288 with 5 Axes>"
      ]
     },
     "metadata": {
      "needs_background": "light"
     },
     "output_type": "display_data"
    },
    {
     "name": "stdout",
     "output_type": "stream",
     "text": [
      "Model: \"sequential\"\n",
      "_________________________________________________________________\n",
      "Layer (type)                 Output Shape              Param #   \n",
      "=================================================================\n",
      "flatten (Flatten)            (None, 784)               0         \n",
      "_________________________________________________________________\n",
      "dense (Dense)                (None, 100)               78500     \n",
      "_________________________________________________________________\n",
      "dense_1 (Dense)              (None, 100)               10100     \n",
      "_________________________________________________________________\n",
      "dense_2 (Dense)              (None, 100)               10100     \n",
      "_________________________________________________________________\n",
      "dense_3 (Dense)              (None, 100)               10100     \n",
      "_________________________________________________________________\n",
      "dense_4 (Dense)              (None, 100)               10100     \n",
      "_________________________________________________________________\n",
      "dense_5 (Dense)              (None, 10)                1010      \n",
      "=================================================================\n",
      "Total params: 119,910\n",
      "Trainable params: 119,910\n",
      "Non-trainable params: 0\n",
      "_________________________________________________________________\n",
      "Epoch 1/5\n",
      "1875/1875 [==============================] - 5s 3ms/step - loss: 0.5291 - acc: 0.8752 - val_loss: 0.2497 - val_acc: 0.92842s - loss: 0.8031 - acc: 0.8 - ETA: 2s - ETA: 0s - loss: 0.5 - ETA: 0s - loss: 0.5377 - acc: 0.8\n",
      "Epoch 2/5\n",
      "1875/1875 [==============================] - 6s 3ms/step - loss: 0.1977 - acc: 0.9438 - val_loss: 0.1926 - val_acc: 0.9439\n",
      "Epoch 3/5\n",
      "1875/1875 [==============================] - 7s 4ms/step - loss: 0.1536 - acc: 0.9562 - val_loss: 0.1405 - val_acc: 0.9597\n",
      "Epoch 4/5\n",
      "1875/1875 [==============================] - 6s 3ms/step - loss: 0.1310 - acc: 0.9633 - val_loss: 0.1321 - val_acc: 0.9618\n",
      "Epoch 5/5\n",
      "1875/1875 [==============================] - 5s 3ms/step - loss: 0.1113 - acc: 0.9690 - val_loss: 0.1508 - val_acc: 0.9591\n"
     ]
    },
    {
     "data": {
      "image/png": "[encoded data removed]",
      "text/plain": [
       "<Figure size 1440x288 with 10 Axes>"
      ]
     },
     "metadata": {
      "needs_background": "light"
     },
     "output_type": "display_data"
    },
    {
     "name": "stdout",
     "output_type": "stream",
     "text": [
      "313/313 [==============================] - 0s 1ms/step - loss: 0.1508 - acc: 0.9591A: 0s - loss: 0.1592 - acc: 0.95\n",
      "Accuracy: 95.91\n"
     ]
    }
   ],
   "source": [
    "import numpy as np\n",
    "import matplotlib.pyplot as plt\n",
    "from keras.layers import Dense, Flatten\n",
    "from keras.models import Sequential\n",
    "from keras.utils import to_categorical\n",
    "from keras.datasets import mnist\n",
    "from tensorflow.keras import initializers\n",
    "\n",
    "# Load MNIST handwritten digit data\n",
    "(X_train, y_train), (X_test, y_test) = mnist.load_data()\n",
    "\n",
    "# Display some images\n",
    "fig, axes = plt.subplots(ncols=5, sharex=False,\n",
    "\t\t\t sharey=True, figsize=(10, 4))\n",
    "for i in range(5):\n",
    "\taxes[i].set_title(y_train[i])\n",
    "\taxes[i].imshow(X_train[i], cmap='gray')\n",
    "\taxes[i].get_xaxis().set_visible(False)\n",
    "\taxes[i].get_yaxis().set_visible(False)\n",
    "plt.show()\n",
    "\n",
    "# Convert y_train into one-hot format \n",
    "temp = []\n",
    "for i in range(len(y_train)):\n",
    "    temp.append(to_categorical(y_train[i], num_classes=10))\n",
    "    \n",
    "y_train = np.array(temp)\n",
    "\n",
    "# Convert y_test into one-hot format \n",
    "temp = []\n",
    "for i in range(len(y_test)):\n",
    "    temp.append(to_categorical(y_test[i], num_classes=10))\n",
    "\n",
    "y_test = np.array(temp)\n",
    "initializer = initializers.GlorotNormal()\n",
    "\n",
    "# Create simple Neural Network model\n",
    "model = Sequential()\n",
    "model.add(Flatten(input_shape=(28,28)))\n",
    "model.add(Dense(100, activation='relu', kernel_initializer=initializer))\n",
    "model.add(Dense(100, activation='relu', kernel_initializer=initializer))\n",
    "model.add(Dense(100, activation='relu', kernel_initializer=initializer))\n",
    "model.add(Dense(100, activation='relu', kernel_initializer=initializer))\n",
    "model.add(Dense(100, activation='relu', kernel_initializer=initializer))\n",
    "model.add(Dense(10, activation='softmax'))\n",
    "\n",
    "model.summary()\n",
    "\n",
    "model.compile(loss='categorical_crossentropy', \n",
    "\t      optimizer='adam',\n",
    "\t      metrics=['acc'])\n",
    "\n",
    "# Train the Neural Network model\n",
    "model.fit(X_train, y_train, epochs=5, validation_data=(X_test,y_test))\n",
    "\n",
    "# Making predictions using our trained model\n",
    "predictions = model.predict(X_test)\n",
    "predictions = np.argmax(predictions, axis=1)\n",
    "\n",
    "# Display some predictions on test data\n",
    "fig, axes = plt.subplots(ncols=10, sharex=False,\n",
    "\t\t\t sharey=True, figsize=(20, 4))\n",
    "for i in range(10):\n",
    "\taxes[i].set_title(predictions[i])\n",
    "\taxes[i].imshow(X_test[i], cmap='gray')\n",
    "\taxes[i].get_xaxis().set_visible(False)\n",
    "\taxes[i].get_yaxis().set_visible(False)\n",
    "plt.show()\n",
    "\n",
    "# evaluate the keras model\n",
    "_, accuracy = model.evaluate(X_test, y_test)\n",
    "print('Accuracy: %.2f' % (accuracy*100))"
   ]
  },
  {
   "cell_type": "code",
   "execution_count": null,
   "id": "latin-continuity",
   "metadata": {},
   "outputs": [],
   "source": []
  },
  {
   "cell_type": "markdown",
   "id": "loose-testimony",
   "metadata": {},
   "source": [
    "##### Compare the results to the results of all the techniques you compared in Exercise 4.1."
   ]
  },
  {
   "cell_type": "code",
   "execution_count": null,
   "id": "falling-texas",
   "metadata": {},
   "outputs": [],
   "source": []
  },
  {
   "cell_type": "markdown",
   "id": "distinct-discrimination",
   "metadata": {},
   "source": [
    "### (II) Add dropout (with an appropriate predefined dropout rate) to every layer, train the network again, and compare the results. Discuss your observations."
   ]
  },
  {
   "cell_type": "code",
   "execution_count": 2,
   "id": "moving-construction",
   "metadata": {},
   "outputs": [
    {
     "data": {
      "image/png": "[encoded data removed]",
      "text/plain": [
       "<Figure size 720x288 with 5 Axes>"
      ]
     },
     "metadata": {
      "needs_background": "light"
     },
     "output_type": "display_data"
    },
    {
     "name": "stdout",
     "output_type": "stream",
     "text": [
      "Epoch 1/5\n",
      "1875/1875 [==============================] - 8s 4ms/step - loss: 0.9897 - acc: 0.7507 - val_loss: 0.2629 - val_acc: 0.9232oss: 1.2449 - ac\n",
      "Epoch 2/5\n",
      "1875/1875 [==============================] - 10s 5ms/step - loss: 0.3379 - acc: 0.9041 - val_loss: 0.2022 - val_acc: 0.9427\n",
      "Epoch 3/5\n",
      "1875/1875 [==============================] - 9s 5ms/step - loss: 0.2594 - acc: 0.9284 - val_loss: 0.1744 - val_acc: 0.9515\n",
      "Epoch 4/5\n",
      "1875/1875 [==============================] - 8s 5ms/step - loss: 0.2254 - acc: 0.9398 - val_loss: 0.1567 - val_acc: 0.9595 3s - loss: 0.2258 - - ETA: 3s - loss\n",
      "Epoch 5/5\n",
      "1875/1875 [==============================] - 9s 5ms/step - loss: 0.1946 - acc: 0.9478 - val_loss: 0.1310 - val_acc: 0.9622 loss: 0.2029 - acc: 0. - ETA: 4s - loss: 0.2012 - acc:  - - ETA: 0s - loss: 0.1967 - a\n"
     ]
    },
    {
     "data": {
      "image/png": "[encoded data removed]",
      "text/plain": [
       "<Figure size 1440x288 with 10 Axes>"
      ]
     },
     "metadata": {
      "needs_background": "light"
     },
     "output_type": "display_data"
    },
    {
     "name": "stdout",
     "output_type": "stream",
     "text": [
      "313/313 [==============================] - 1s 3ms/step - loss: 0.1310 - acc: 0.9622A: 0s - loss: 0.1766 - ac\n",
      "Accuracy: 96.22\n"
     ]
    }
   ],
   "source": [
    "import numpy as np\n",
    "import matplotlib.pyplot as plt\n",
    "from keras.layers import Dense, Flatten\n",
    "from keras.models import Sequential\n",
    "from keras.utils import to_categorical\n",
    "from keras.datasets import mnist\n",
    "from keras.layers import Dropout\n",
    "from tensorflow.keras import initializers\n",
    "\n",
    "# Load MNIST handwritten digit data\n",
    "(X_train, y_train), (X_test, y_test) = mnist.load_data()\n",
    "\n",
    "# Display some images\n",
    "fig, axes = plt.subplots(ncols=5, sharex=False,\n",
    "\t\t\t sharey=True, figsize=(10, 4))\n",
    "for i in range(5):\n",
    "\taxes[i].set_title(y_train[i])\n",
    "\taxes[i].imshow(X_train[i], cmap='gray')\n",
    "\taxes[i].get_xaxis().set_visible(False)\n",
    "\taxes[i].get_yaxis().set_visible(False)\n",
    "plt.show()\n",
    "\n",
    "# Convert y_train into one-hot format \n",
    "temp = []\n",
    "for i in range(len(y_train)):\n",
    "    temp.append(to_categorical(y_train[i], num_classes=10))\n",
    "    \n",
    "y_train = np.array(temp)\n",
    "\n",
    "# Convert y_test into one-hot format \n",
    "temp = []\n",
    "for i in range(len(y_test)):\n",
    "    temp.append(to_categorical(y_test[i], num_classes=10))\n",
    "\n",
    "y_test = np.array(temp)\n",
    "\n",
    "initializer = initializers.GlorotNormal()\n",
    "do = 0.1\n",
    "\n",
    "# Create simple Neural Network model\n",
    "model = Sequential()\n",
    "model.add(Flatten(input_shape=(28,28)))\n",
    "model.add(Dropout(do))\n",
    "model.add(Dense(100, activation='relu', kernel_initializer=initializer))\n",
    "model.add(Dropout(do))\n",
    "model.add(Dense(100, activation='relu', kernel_initializer=initializer))\n",
    "model.add(Dropout(do))\n",
    "model.add(Dense(100, activation='relu', kernel_initializer=initializer))\n",
    "model.add(Dropout(do))\n",
    "model.add(Dense(100, activation='relu', kernel_initializer=initializer))\n",
    "model.add(Dropout(do))\n",
    "model.add(Dense(100, activation='relu', kernel_initializer=initializer))\n",
    "model.add(Dense(10, activation='softmax'))\n",
    "\n",
    "# model.summary()\n",
    "\n",
    "model.compile(loss='categorical_crossentropy', \n",
    "\t      optimizer='adam',\n",
    "\t      metrics=['acc'])\n",
    "\n",
    "# Train the Neural Network model\n",
    "model.fit(X_train, y_train, epochs=5, validation_data=(X_test,y_test))\n",
    "\n",
    "# Making predictions using our trained model\n",
    "predictions = model.predict(X_test)\n",
    "predictions = np.argmax(predictions, axis=1)\n",
    "\n",
    "# Display some predictions on test data\n",
    "fig, axes = plt.subplots(ncols=10, sharex=False,\n",
    "\t\t\t sharey=True, figsize=(20, 4))\n",
    "for i in range(10):\n",
    "\taxes[i].set_title(predictions[i])\n",
    "\taxes[i].imshow(X_test[i], cmap='gray')\n",
    "\taxes[i].get_xaxis().set_visible(False)\n",
    "\taxes[i].get_yaxis().set_visible(False)\n",
    "plt.show()\n",
    "\n",
    "# evaluate the keras model\n",
    "_, accuracy = model.evaluate(X_test, y_test)\n",
    "print('Accuracy: %.2f' % (accuracy*100))"
   ]
  },
  {
   "cell_type": "code",
   "execution_count": null,
   "id": "ambient-wings",
   "metadata": {},
   "outputs": [],
   "source": []
  }
 ],
 "metadata": {
  "kernelspec": {
   "display_name": "Python 3",
   "language": "python",
   "name": "python3"
  },
  "language_info": {
   "codemirror_mode": {
    "name": "ipython",
    "version": 3
   },
   "file_extension": ".py",
   "mimetype": "text/x-python",
   "name": "python",
   "nbconvert_exporter": "python",
   "pygments_lexer": "ipython3",
   "version": "3.8.8"
  }
 },
 "nbformat": 4,
 "nbformat_minor": 5
}
