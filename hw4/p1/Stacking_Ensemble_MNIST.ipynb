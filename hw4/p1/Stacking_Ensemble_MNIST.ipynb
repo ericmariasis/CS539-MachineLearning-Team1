{
 "cells": [
  {
   "cell_type": "code",
   "execution_count": 1,
   "id": "a2e9caea",
   "metadata": {},
   "outputs": [
    {
     "name": "stdout",
     "output_type": "stream",
     "text": [
      "Bagged_Tree_MNIST.ipynb\n",
      "Classification_Tree_MNIST.ipynb\n",
      "Gradient_Booster_MNIST.ipynb\n",
      "MNIST_RandomForest.ipynb\n",
      "Stacking_Ensemble_MNIST.ipynb\n",
      "mnist_bgc.csv\n",
      "mnist_clf.csv\n",
      "mnist_rf.csv\n",
      "test.csv\n",
      "train.csv\n",
      "\n"
     ]
    }
   ],
   "source": [
    "import numpy as np\n",
    "import pandas as pd\n",
    "import matplotlib.pyplot as plt\n",
    "import seaborn as sns\n",
    "from sklearn.linear_model import LogisticRegression\n",
    "from sklearn.svm import NuSVC, SVC\n",
    "from sklearn.tree import DecisionTreeClassifier\n",
    "from sklearn.ensemble import RandomForestClassifier, StackingClassifier\n",
    "from sklearn.neural_network import MLPClassifier\n",
    "from sklearn.preprocessing import StandardScaler, LabelEncoder, OneHotEncoder\n",
    "from sklearn.model_selection import train_test_split\n",
    "from sklearn.model_selection import GridSearchCV , KFold , cross_val_score\n",
    "from sklearn.metrics import accuracy_score, classification_report, confusion_matrix\n",
    "from sklearn.model_selection import cross_val_score\n",
    "%matplotlib inline\n",
    "from subprocess import check_output\n",
    "print(check_output([\"ls\", \"/Users/jbeiting/Desktop/CS_539/Team_assignment_4\"]).decode(\"utf8\"))"
   ]
  },
  {
   "cell_type": "code",
   "execution_count": 2,
   "id": "2120d579",
   "metadata": {},
   "outputs": [],
   "source": [
    "train = pd.read_csv('/Users/jbeiting/Desktop/CS_539/Team_assignment_4/train.csv')\n",
    "test = pd.read_csv('/Users/jbeiting/Desktop/CS_539/Team_assignment_4/test.csv')"
   ]
  },
  {
   "cell_type": "code",
   "execution_count": 3,
   "id": "44b3eaec",
   "metadata": {},
   "outputs": [
    {
     "name": "stdout",
     "output_type": "stream",
     "text": [
      "Training dataset has 42000 observations and 785 variables\n",
      "Testing dataset has 28000 observations and 784 variables\n"
     ]
    }
   ],
   "source": [
    "#Printing the size of the dataframe\n",
    "print (\"Training dataset has %i observations and %i variables\" %(train.shape[0], train.shape[1]))\n",
    "print (\"Testing dataset has %i observations and %i variables\" %(test.shape[0], test.shape[1]))"
   ]
  },
  {
   "cell_type": "code",
   "execution_count": 4,
   "id": "164a20eb",
   "metadata": {},
   "outputs": [
    {
     "data": {
      "text/html": [
       "<div>\n",
       "<style scoped>\n",
       "    .dataframe tbody tr th:only-of-type {\n",
       "        vertical-align: middle;\n",
       "    }\n",
       "\n",
       "    .dataframe tbody tr th {\n",
       "        vertical-align: top;\n",
       "    }\n",
       "\n",
       "    .dataframe thead th {\n",
       "        text-align: right;\n",
       "    }\n",
       "</style>\n",
       "<table border=\"1\" class=\"dataframe\">\n",
       "  <thead>\n",
       "    <tr style=\"text-align: right;\">\n",
       "      <th></th>\n",
       "      <th>label</th>\n",
       "      <th>pixel0</th>\n",
       "      <th>pixel1</th>\n",
       "      <th>pixel2</th>\n",
       "      <th>pixel3</th>\n",
       "      <th>pixel4</th>\n",
       "      <th>pixel5</th>\n",
       "      <th>pixel6</th>\n",
       "      <th>pixel7</th>\n",
       "      <th>pixel8</th>\n",
       "      <th>...</th>\n",
       "      <th>pixel774</th>\n",
       "      <th>pixel775</th>\n",
       "      <th>pixel776</th>\n",
       "      <th>pixel777</th>\n",
       "      <th>pixel778</th>\n",
       "      <th>pixel779</th>\n",
       "      <th>pixel780</th>\n",
       "      <th>pixel781</th>\n",
       "      <th>pixel782</th>\n",
       "      <th>pixel783</th>\n",
       "    </tr>\n",
       "  </thead>\n",
       "  <tbody>\n",
       "    <tr>\n",
       "      <th>0</th>\n",
       "      <td>1</td>\n",
       "      <td>0</td>\n",
       "      <td>0</td>\n",
       "      <td>0</td>\n",
       "      <td>0</td>\n",
       "      <td>0</td>\n",
       "      <td>0</td>\n",
       "      <td>0</td>\n",
       "      <td>0</td>\n",
       "      <td>0</td>\n",
       "      <td>...</td>\n",
       "      <td>0</td>\n",
       "      <td>0</td>\n",
       "      <td>0</td>\n",
       "      <td>0</td>\n",
       "      <td>0</td>\n",
       "      <td>0</td>\n",
       "      <td>0</td>\n",
       "      <td>0</td>\n",
       "      <td>0</td>\n",
       "      <td>0</td>\n",
       "    </tr>\n",
       "    <tr>\n",
       "      <th>1</th>\n",
       "      <td>0</td>\n",
       "      <td>0</td>\n",
       "      <td>0</td>\n",
       "      <td>0</td>\n",
       "      <td>0</td>\n",
       "      <td>0</td>\n",
       "      <td>0</td>\n",
       "      <td>0</td>\n",
       "      <td>0</td>\n",
       "      <td>0</td>\n",
       "      <td>...</td>\n",
       "      <td>0</td>\n",
       "      <td>0</td>\n",
       "      <td>0</td>\n",
       "      <td>0</td>\n",
       "      <td>0</td>\n",
       "      <td>0</td>\n",
       "      <td>0</td>\n",
       "      <td>0</td>\n",
       "      <td>0</td>\n",
       "      <td>0</td>\n",
       "    </tr>\n",
       "    <tr>\n",
       "      <th>2</th>\n",
       "      <td>1</td>\n",
       "      <td>0</td>\n",
       "      <td>0</td>\n",
       "      <td>0</td>\n",
       "      <td>0</td>\n",
       "      <td>0</td>\n",
       "      <td>0</td>\n",
       "      <td>0</td>\n",
       "      <td>0</td>\n",
       "      <td>0</td>\n",
       "      <td>...</td>\n",
       "      <td>0</td>\n",
       "      <td>0</td>\n",
       "      <td>0</td>\n",
       "      <td>0</td>\n",
       "      <td>0</td>\n",
       "      <td>0</td>\n",
       "      <td>0</td>\n",
       "      <td>0</td>\n",
       "      <td>0</td>\n",
       "      <td>0</td>\n",
       "    </tr>\n",
       "    <tr>\n",
       "      <th>3</th>\n",
       "      <td>4</td>\n",
       "      <td>0</td>\n",
       "      <td>0</td>\n",
       "      <td>0</td>\n",
       "      <td>0</td>\n",
       "      <td>0</td>\n",
       "      <td>0</td>\n",
       "      <td>0</td>\n",
       "      <td>0</td>\n",
       "      <td>0</td>\n",
       "      <td>...</td>\n",
       "      <td>0</td>\n",
       "      <td>0</td>\n",
       "      <td>0</td>\n",
       "      <td>0</td>\n",
       "      <td>0</td>\n",
       "      <td>0</td>\n",
       "      <td>0</td>\n",
       "      <td>0</td>\n",
       "      <td>0</td>\n",
       "      <td>0</td>\n",
       "    </tr>\n",
       "    <tr>\n",
       "      <th>4</th>\n",
       "      <td>0</td>\n",
       "      <td>0</td>\n",
       "      <td>0</td>\n",
       "      <td>0</td>\n",
       "      <td>0</td>\n",
       "      <td>0</td>\n",
       "      <td>0</td>\n",
       "      <td>0</td>\n",
       "      <td>0</td>\n",
       "      <td>0</td>\n",
       "      <td>...</td>\n",
       "      <td>0</td>\n",
       "      <td>0</td>\n",
       "      <td>0</td>\n",
       "      <td>0</td>\n",
       "      <td>0</td>\n",
       "      <td>0</td>\n",
       "      <td>0</td>\n",
       "      <td>0</td>\n",
       "      <td>0</td>\n",
       "      <td>0</td>\n",
       "    </tr>\n",
       "  </tbody>\n",
       "</table>\n",
       "<p>5 rows × 785 columns</p>\n",
       "</div>"
      ],
      "text/plain": [
       "   label  pixel0  pixel1  pixel2  pixel3  pixel4  pixel5  pixel6  pixel7  \\\n",
       "0      1       0       0       0       0       0       0       0       0   \n",
       "1      0       0       0       0       0       0       0       0       0   \n",
       "2      1       0       0       0       0       0       0       0       0   \n",
       "3      4       0       0       0       0       0       0       0       0   \n",
       "4      0       0       0       0       0       0       0       0       0   \n",
       "\n",
       "   pixel8  ...  pixel774  pixel775  pixel776  pixel777  pixel778  pixel779  \\\n",
       "0       0  ...         0         0         0         0         0         0   \n",
       "1       0  ...         0         0         0         0         0         0   \n",
       "2       0  ...         0         0         0         0         0         0   \n",
       "3       0  ...         0         0         0         0         0         0   \n",
       "4       0  ...         0         0         0         0         0         0   \n",
       "\n",
       "   pixel780  pixel781  pixel782  pixel783  \n",
       "0         0         0         0         0  \n",
       "1         0         0         0         0  \n",
       "2         0         0         0         0  \n",
       "3         0         0         0         0  \n",
       "4         0         0         0         0  \n",
       "\n",
       "[5 rows x 785 columns]"
      ]
     },
     "execution_count": 4,
     "metadata": {},
     "output_type": "execute_result"
    }
   ],
   "source": [
    "train.head()"
   ]
  },
  {
   "cell_type": "code",
   "execution_count": 5,
   "id": "16d26e03",
   "metadata": {},
   "outputs": [
    {
     "data": {
      "text/plain": [
       "(2100, 784)"
      ]
     },
     "execution_count": 5,
     "metadata": {},
     "output_type": "execute_result"
    }
   ],
   "source": [
    "df_x = train.iloc[0:2100,1:]\n",
    "df_y = train.iloc[0:2100,0]\n",
    "df_x.shape"
   ]
  },
  {
   "cell_type": "code",
   "execution_count": 6,
   "id": "29d941de",
   "metadata": {},
   "outputs": [],
   "source": [
    "def print_image(row, df):\n",
    "    temp = df.iloc[row,:].values\n",
    "    temp = temp.reshape(28,28).astype('uint8')\n",
    "    plt.imshow(temp)"
   ]
  },
  {
   "cell_type": "code",
   "execution_count": 7,
   "id": "c795e173",
   "metadata": {},
   "outputs": [
    {
     "data": {
      "image/png": "[encoded data removed]",
      "text/plain": [
       "<Figure size 432x288 with 1 Axes>"
      ]
     },
     "metadata": {
      "needs_background": "light"
     },
     "output_type": "display_data"
    }
   ],
   "source": [
    "print_image(100, df_x)"
   ]
  },
  {
   "cell_type": "code",
   "execution_count": 8,
   "id": "ce7b6933",
   "metadata": {},
   "outputs": [
    {
     "name": "stdout",
     "output_type": "stream",
     "text": [
      "X_train shape:  (1680, 784)\n",
      "X_test shape:  (420, 784)\n"
     ]
    }
   ],
   "source": [
    "# splitting dataset\n",
    "X_train, X_test, y_train, y_test = train_test_split(df_x, df_y, test_size = 0.2, random_state = 100)\n",
    "print('X_train shape: ', X_train.shape)\n",
    "print('X_test shape: ', X_test.shape)"
   ]
  },
  {
   "cell_type": "code",
   "execution_count": 9,
   "id": "96082c0a",
   "metadata": {},
   "outputs": [],
   "source": [
    "# Initializing Support Vector classifier\n",
    "clf_svc = SVC(C = 50, degree = 1, gamma = \"auto\", kernel = \"rbf\", probability = True)\n",
    "\n",
    "# Initializing Multi-layer perceptron  classifier\n",
    "clf_mlp = MLPClassifier(activation = \"relu\", alpha = 0.1, hidden_layer_sizes = (10,10,10),\n",
    "                            learning_rate = \"constant\", max_iter = 2000, random_state = 1000)\n",
    "\n",
    "# Initialing Nu Support Vector classifier\n",
    "clf_nusvc = NuSVC(degree = 1, kernel = \"rbf\", nu = 0.25, probability = True)\n",
    "\n",
    "# Initializing Random Forest classifier\n",
    "clf_rfc = RandomForestClassifier(n_estimators = 500, criterion = \"gini\", max_depth = 10,\n",
    "                                     max_features = \"auto\", min_samples_leaf = 0.005,\n",
    "                                     min_samples_split = 0.005, n_jobs = -1, random_state = 1000)"
   ]
  },
  {
   "cell_type": "code",
   "execution_count": 10,
   "id": "22114d2d",
   "metadata": {},
   "outputs": [],
   "source": [
    "classifiers = [('svc', clf_svc),\n",
    "               ('mlp', clf_mlp),                             \n",
    "               ('nusvc', clf_nusvc),\n",
    "               ('rfc', clf_rfc)]"
   ]
  },
  {
   "cell_type": "code",
   "execution_count": 11,
   "id": "3e67ab7b",
   "metadata": {},
   "outputs": [],
   "source": [
    "clf = StackingClassifier(estimators = classifiers, final_estimator=LogisticRegression(),stack_method = 'auto',\n",
    "                         n_jobs = -1, passthrough = False)"
   ]
  },
  {
   "cell_type": "code",
   "execution_count": 12,
   "id": "d9d22b5d",
   "metadata": {},
   "outputs": [
    {
     "data": {
      "text/plain": [
       "StackingClassifier(estimators=[('svc',\n",
       "                                SVC(C=50, degree=1, gamma='auto',\n",
       "                                    probability=True)),\n",
       "                               ('mlp',\n",
       "                                MLPClassifier(alpha=0.1,\n",
       "                                              hidden_layer_sizes=(10, 10, 10),\n",
       "                                              max_iter=2000,\n",
       "                                              random_state=1000)),\n",
       "                               ('nusvc',\n",
       "                                NuSVC(degree=1, nu=0.25, probability=True)),\n",
       "                               ('rfc',\n",
       "                                RandomForestClassifier(max_depth=10,\n",
       "                                                       min_samples_leaf=0.005,\n",
       "                                                       min_samples_split=0.005,\n",
       "                                                       n_estimators=500,\n",
       "                                                       n_jobs=-1,\n",
       "                                                       random_state=1000))],\n",
       "                   final_estimator=LogisticRegression(), n_jobs=-1)"
      ]
     },
     "execution_count": 12,
     "metadata": {},
     "output_type": "execute_result"
    }
   ],
   "source": [
    "clf.fit(X_train, y_train)"
   ]
  },
  {
   "cell_type": "code",
   "execution_count": 16,
   "id": "40e84b0e",
   "metadata": {},
   "outputs": [
    {
     "name": "stdout",
     "output_type": "stream",
     "text": [
      "Classification Report: \n",
      "               precision    recall  f1-score   support\n",
      "\n",
      "           0       1.00      0.98      0.99        41\n",
      "           1       1.00      0.95      0.97        39\n",
      "           2       1.00      0.95      0.97        59\n",
      "           3       1.00      1.00      1.00        37\n",
      "           4       1.00      1.00      1.00        33\n",
      "           5       0.98      1.00      0.99        44\n",
      "           6       0.98      1.00      0.99        46\n",
      "           7       0.92      0.97      0.95        36\n",
      "           8       0.98      0.98      0.98        43\n",
      "           9       0.95      1.00      0.98        42\n",
      "\n",
      "    accuracy                           0.98       420\n",
      "   macro avg       0.98      0.98      0.98       420\n",
      "weighted avg       0.98      0.98      0.98       420\n",
      "\n",
      "Confusion Matrix: \n",
      " [[40  0  0  0  0  0  1  0  0  0]\n",
      " [ 0 37  0  0  0  1  0  0  1  0]\n",
      " [ 0  0 56  0  0  0  0  3  0  0]\n",
      " [ 0  0  0 37  0  0  0  0  0  0]\n",
      " [ 0  0  0  0 33  0  0  0  0  0]\n",
      " [ 0  0  0  0  0 44  0  0  0  0]\n",
      " [ 0  0  0  0  0  0 46  0  0  0]\n",
      " [ 0  0  0  0  0  0  0 35  0  1]\n",
      " [ 0  0  0  0  0  0  0  0 42  1]\n",
      " [ 0  0  0  0  0  0  0  0  0 42]]\n"
     ]
    }
   ],
   "source": [
    "pred = clf.predict(X_test)\n",
    "print(\"Classification Report: \\n\", classification_report(y_test, pred))\n",
    "print(\"Confusion Matrix: \\n\", confusion_matrix(y_test, pred))"
   ]
  },
  {
   "cell_type": "code",
   "execution_count": 17,
   "id": "329f5bae",
   "metadata": {},
   "outputs": [
    {
     "name": "stdout",
     "output_type": "stream",
     "text": [
      "Score:  0.930952380952381\n"
     ]
    }
   ],
   "source": [
    "# Cross validation\n",
    "clf.fit(df_x, df_y)\n",
    "score = cross_val_score(clf, df_x, df_y)\n",
    "print('Score: ', np.mean(score))"
   ]
  },
  {
   "cell_type": "code",
   "execution_count": 18,
   "id": "3adadb48",
   "metadata": {},
   "outputs": [],
   "source": [
    "pred = pd.Series(pred,name = \"Label\")\n",
    "submission = pd.concat([pd.Series(range(1,28001),name = \"ImageId\"),pred],axis = 1)\n",
    "submission.to_csv(\"mnist_se.csv\", index = False)"
   ]
  },
  {
   "cell_type": "code",
   "execution_count": null,
   "id": "c010d143",
   "metadata": {},
   "outputs": [],
   "source": []
  }
 ],
 "metadata": {
  "kernelspec": {
   "display_name": "Python 3 (ipykernel)",
   "language": "python",
   "name": "python3"
  },
  "language_info": {
   "codemirror_mode": {
    "name": "ipython",
    "version": 3
   },
   "file_extension": ".py",
   "mimetype": "text/x-python",
   "name": "python",
   "nbconvert_exporter": "python",
   "pygments_lexer": "ipython3",
   "version": "3.8.8"
  }
 },
 "nbformat": 4,
 "nbformat_minor": 5
}
