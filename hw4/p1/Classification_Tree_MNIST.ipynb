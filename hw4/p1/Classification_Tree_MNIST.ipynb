{
 "cells": [
  {
   "cell_type": "code",
   "execution_count": 25,
   "id": "eac88d4c",
   "metadata": {},
   "outputs": [
    {
     "name": "stdout",
     "output_type": "stream",
     "text": [
      "Bagged_Tree_MNIST.ipynb\n",
      "MNIST_RandomForest.ipynb\n",
      "mnist_rf.csv\n",
      "test.csv\n",
      "train.csv\n",
      "\n"
     ]
    }
   ],
   "source": [
    "import numpy as np\n",
    "import pandas as pd\n",
    "import matplotlib.pyplot as plt\n",
    "import seaborn as sns\n",
    "from sklearn.tree import DecisionTreeClassifier  \n",
    "from sklearn.model_selection import train_test_split\n",
    "from sklearn.metrics import classification_report, confusion_matrix\n",
    "from sklearn.model_selection import RandomizedSearchCV, GridSearchCV \n",
    "from sklearn.model_selection import cross_val_score\n",
    "from sklearn.metrics import accuracy_score\n",
    "%matplotlib inline\n",
    "from subprocess import check_output\n",
    "print(check_output([\"ls\", \"/Users/jbeiting/Desktop/CS_539/Team_assignment_4\"]).decode(\"utf8\"))"
   ]
  },
  {
   "cell_type": "code",
   "execution_count": 26,
   "id": "e787e1cc",
   "metadata": {},
   "outputs": [],
   "source": [
    "train = pd.read_csv('/Users/jbeiting/Desktop/CS_539/Team_assignment_4/train.csv')\n",
    "test = pd.read_csv('/Users/jbeiting/Desktop/CS_539/Team_assignment_4/test.csv')"
   ]
  },
  {
   "cell_type": "code",
   "execution_count": 27,
   "id": "94d80ef6",
   "metadata": {},
   "outputs": [
    {
     "name": "stdout",
     "output_type": "stream",
     "text": [
      "Training dataset has 42000 observations and 785 variables\n",
      "Testing dataset has 28000 observations and 784 variables\n"
     ]
    }
   ],
   "source": [
    "#Printing the size of the dataframe\n",
    "print (\"Training dataset has %i observations and %i variables\" %(train.shape[0], train.shape[1]))\n",
    "print (\"Testing dataset has %i observations and %i variables\" %(test.shape[0], test.shape[1]))"
   ]
  },
  {
   "cell_type": "code",
   "execution_count": 28,
   "id": "6dc58421",
   "metadata": {},
   "outputs": [],
   "source": [
    "df_x = train.iloc[:,1:]\n",
    "df_y = train.iloc[:,0]"
   ]
  },
  {
   "cell_type": "code",
   "execution_count": 29,
   "id": "96d8aa8d",
   "metadata": {},
   "outputs": [],
   "source": [
    "def print_image(row, df):\n",
    "    temp = df.iloc[row,:].values\n",
    "    temp = temp.reshape(28,28).astype('uint8')\n",
    "    plt.imshow(temp)"
   ]
  },
  {
   "cell_type": "code",
   "execution_count": 30,
   "id": "5cecd8c6",
   "metadata": {},
   "outputs": [
    {
     "data": {
      "image/png": "[encoded data removed]",
      "text/plain": [
       "<Figure size 432x288 with 1 Axes>"
      ]
     },
     "metadata": {
      "needs_background": "light"
     },
     "output_type": "display_data"
    }
   ],
   "source": [
    "print_image(3, df_x)"
   ]
  },
  {
   "cell_type": "code",
   "execution_count": 31,
   "id": "e874aeff",
   "metadata": {},
   "outputs": [
    {
     "name": "stdout",
     "output_type": "stream",
     "text": [
      "X_train shape:  (33600, 784)\n",
      "X_test shape:  (8400, 784)\n"
     ]
    }
   ],
   "source": [
    "# splitting dataset\n",
    "X_train, X_test, y_train, y_test = train_test_split(df_x, df_y, test_size = 0.2, random_state = 0)\n",
    "print('X_train shape: ', X_train.shape)\n",
    "print('X_test shape: ', X_test.shape)"
   ]
  },
  {
   "cell_type": "code",
   "execution_count": 32,
   "id": "3acb4c50",
   "metadata": {},
   "outputs": [],
   "source": [
    "def acc(y_true : np.ndarray, y_pred : np.ndarray) -> float:\n",
    "    \"\"\"\n",
    "        Calculates the accuracy score between labels and predictions.\n",
    "        \n",
    "        :param y_true: The true labels of the data\n",
    "        :param y_pred: The predictions for the data\n",
    "        \n",
    "        :return: a floating point number denoting the accuracy\n",
    "    \"\"\"\n",
    "    return round(accuracy_score(y_true, y_pred) * 100, 2)"
   ]
  },
  {
   "cell_type": "code",
   "execution_count": 33,
   "id": "bf356287",
   "metadata": {},
   "outputs": [
    {
     "data": {
      "text/plain": [
       "DecisionTreeClassifier(max_depth=10, random_state=1234)"
      ]
     },
     "execution_count": 33,
     "metadata": {},
     "output_type": "execute_result"
    }
   ],
   "source": [
    "# Train baseline decision tree model\n",
    "clf = DecisionTreeClassifier(max_depth = 10, random_state = 1234)\n",
    "clf.fit(X_train, y_train)"
   ]
  },
  {
   "cell_type": "code",
   "execution_count": 34,
   "id": "daf9179a",
   "metadata": {},
   "outputs": [],
   "source": [
    "# Get all pixel features\n",
    "features = [col for col in train.columns if col.startswith('pixel')]\n",
    "# Split up training to for validation\n",
    "X_train, X_val, y_train, y_val = train_test_split(train[features], \n",
    "                                                  train['label'], \n",
    "                                                  test_size = 0.25, \n",
    "                                                  random_state = 1234)"
   ]
  },
  {
   "cell_type": "code",
   "execution_count": 35,
   "id": "dacafe61",
   "metadata": {},
   "outputs": [
    {
     "name": "stdout",
     "output_type": "stream",
     "text": [
      "Training accuracy for our baseline (using all pixel features): 89.57%\n",
      "Validation accuracy for our baseline (using all pixel features): 89.36%\n"
     ]
    }
   ],
   "source": [
    "train_preds_baseline = clf.predict(X_train)\n",
    "val_preds_baseline = clf.predict(X_val)\n",
    "acc_baseline_train = acc(train_preds_baseline, y_train)\n",
    "acc_baseline_val = acc(val_preds_baseline, y_val)\n",
    "print(f'Training accuracy for our baseline (using all pixel features): {acc_baseline_train}%')\n",
    "print(f'Validation accuracy for our baseline (using all pixel features): {acc_baseline_val}%')"
   ]
  },
  {
   "cell_type": "code",
   "execution_count": 36,
   "id": "621345ea",
   "metadata": {},
   "outputs": [
    {
     "name": "stdout",
     "output_type": "stream",
     "text": [
      "Classification Report: \n",
      "               precision    recall  f1-score   support\n",
      "\n",
      "           0       0.92      0.91      0.91       813\n",
      "           1       0.92      0.96      0.94       961\n",
      "           2       0.84      0.78      0.81       860\n",
      "           3       0.83      0.79      0.81       863\n",
      "           4       0.85      0.85      0.85       827\n",
      "           5       0.77      0.79      0.78       756\n",
      "           6       0.90      0.88      0.89       841\n",
      "           7       0.90      0.87      0.88       899\n",
      "           8       0.76      0.77      0.77       768\n",
      "           9       0.74      0.85      0.79       812\n",
      "\n",
      "    accuracy                           0.85      8400\n",
      "   macro avg       0.84      0.84      0.84      8400\n",
      "weighted avg       0.85      0.85      0.85      8400\n",
      "\n",
      "Confusion Matrix: \n",
      " [[740   0   8   5   7  19   8   2  12  12]\n",
      " [  2 920   7   8   4   3   2   0   8   7]\n",
      " [ 13  13 674  34  15  16  18  23  38  16]\n",
      " [  4   8  28 682  13  48   4  27  22  27]\n",
      " [  3   6   5   5 700   4  11   4  28  61]\n",
      " [ 13   5   7  33  13 596  22   6  23  38]\n",
      " [ 14   2  14   1  15  27 738   4  15  11]\n",
      " [  6  15  24   8   2   8   2 782  14  38]\n",
      " [  4  21  20  26  22  38  13   3 588  33]\n",
      " [  6   5  11  19  29  13   1  20  21 687]]\n"
     ]
    }
   ],
   "source": [
    "pred = clf.predict(X_test)\n",
    "print(\"Classification Report: \\n\", classification_report(y_test, pred))\n",
    "print(\"Confusion Matrix: \\n\", confusion_matrix(y_test, pred))"
   ]
  },
  {
   "cell_type": "code",
   "execution_count": 37,
   "id": "7cb12762",
   "metadata": {},
   "outputs": [
    {
     "name": "stdout",
     "output_type": "stream",
     "text": [
      "Score:  0.8464285714285715\n"
     ]
    }
   ],
   "source": [
    "# Cross validation\n",
    "clf.fit(df_x, df_y)\n",
    "score = cross_val_score(clf, df_x, df_y)\n",
    "print('Score: ', np.mean(score))"
   ]
  },
  {
   "cell_type": "code",
   "execution_count": 38,
   "id": "78b1d3e7",
   "metadata": {},
   "outputs": [],
   "source": [
    "pred = clf.predict(test)"
   ]
  },
  {
   "cell_type": "code",
   "execution_count": 39,
   "id": "b7bcaacd",
   "metadata": {},
   "outputs": [],
   "source": [
    "pred = pd.Series(pred,name = \"Label\")\n",
    "submission = pd.concat([pd.Series(range(1,28001),name = \"ImageId\"),pred],axis = 1)\n",
    "submission.to_csv(\"mnist_clf.csv\", index = False)"
   ]
  },
  {
   "cell_type": "code",
   "execution_count": null,
   "id": "253d5545",
   "metadata": {},
   "outputs": [],
   "source": []
  }
 ],
 "metadata": {
  "kernelspec": {
   "display_name": "Python 3 (ipykernel)",
   "language": "python",
   "name": "python3"
  },
  "language_info": {
   "codemirror_mode": {
    "name": "ipython",
    "version": 3
   },
   "file_extension": ".py",
   "mimetype": "text/x-python",
   "name": "python",
   "nbconvert_exporter": "python",
   "pygments_lexer": "ipython3",
   "version": "3.8.8"
  }
 },
 "nbformat": 4,
 "nbformat_minor": 5
}
